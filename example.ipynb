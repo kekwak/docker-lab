{
 "cells": [
  {
   "cell_type": "code",
   "execution_count": 1,
   "id": "be56211a-3d06-4218-b4ed-23cab06c9131",
   "metadata": {},
   "outputs": [],
   "source": [
    "import torch as th"
   ]
  },
  {
   "cell_type": "code",
   "execution_count": 2,
   "id": "299d7b26-87c5-4ca3-b72d-99d7217ecf8f",
   "metadata": {},
   "outputs": [
    {
     "name": "stdout",
     "output_type": "stream",
     "text": [
      "Версия CUDA, поддерживаемая PyTorch: 12.1\n"
     ]
    }
   ],
   "source": [
    "print(\"Версия CUDA, поддерживаемая PyTorch:\", th.version.cuda)"
   ]
  },
  {
   "cell_type": "code",
   "execution_count": 3,
   "id": "03e3fae7-f54b-4c5e-99c5-4b0ca4c09d5d",
   "metadata": {},
   "outputs": [
    {
     "name": "stdout",
     "output_type": "stream",
     "text": [
      "CUDA доступна: True\n"
     ]
    }
   ],
   "source": [
    "is_cuda_available = th.cuda.is_available()\n",
    "print(\"CUDA доступна:\", is_cuda_available)"
   ]
  },
  {
   "cell_type": "code",
   "execution_count": 4,
   "id": "5e86f7f3",
   "metadata": {},
   "outputs": [
    {
     "name": "stdout",
     "output_type": "stream",
     "text": [
      "Количество доступных GPU: 1\n",
      "\n",
      "Информация о GPU 0:\n",
      "Имя устройства: NVIDIA GeForce RTX 4090\n",
      "Свойства устройства:\n",
      "    - Выделенная память (в байтах): 25390678016\n"
     ]
    }
   ],
   "source": [
    "num_gpus = th.cuda.device_count()\n",
    "print(\"Количество доступных GPU:\", num_gpus)\n",
    "\n",
    "for i in range(num_gpus):\n",
    "    print(f\"\\nИнформация о GPU {i}:\")\n",
    "    print(\"Имя устройства:\", th.cuda.get_device_name(i))\n",
    "    print(\"Свойства устройства:\")\n",
    "    props = th.cuda.get_device_properties(i)\n",
    "    print(\"    - Выделенная память (в байтах):\", props.total_memory)"
   ]
  },
  {
   "cell_type": "code",
   "execution_count": 5,
   "id": "d090db00",
   "metadata": {},
   "outputs": [
    {
     "name": "stdout",
     "output_type": "stream",
     "text": [
      "Sat Sep 14 23:38:01 2024       \n",
      "+---------------------------------------------------------------------------------------+\n",
      "| NVIDIA-SMI 535.183.01             Driver Version: 535.183.01   CUDA Version: 12.2     |\n",
      "|-----------------------------------------+----------------------+----------------------+\n",
      "| GPU  Name                 Persistence-M | Bus-Id        Disp.A | Volatile Uncorr. ECC |\n",
      "| Fan  Temp   Perf          Pwr:Usage/Cap |         Memory-Usage | GPU-Util  Compute M. |\n",
      "|                                         |                      |               MIG M. |\n",
      "|=========================================+======================+======================|\n",
      "|   0  NVIDIA GeForce RTX 4090        Off | 00000000:01:00.0  On |                  Off |\n",
      "|  0%   48C    P8              29W / 450W |    724MiB / 24564MiB |      1%      Default |\n",
      "|                                         |                      |                  N/A |\n",
      "+-----------------------------------------+----------------------+----------------------+\n",
      "                                                                                         \n",
      "+---------------------------------------------------------------------------------------+\n",
      "| Processes:                                                                            |\n",
      "|  GPU   GI   CI        PID   Type   Process name                            GPU Memory |\n",
      "|        ID   ID                                                             Usage      |\n",
      "|=======================================================================================|\n",
      "+---------------------------------------------------------------------------------------+\n"
     ]
    }
   ],
   "source": [
    "!nvidia-smi"
   ]
  },
  {
   "cell_type": "code",
   "execution_count": 6,
   "id": "b586824c",
   "metadata": {},
   "outputs": [
    {
     "name": "stdout",
     "output_type": "stream",
     "text": [
      "Созданный тензор на GPU: tensor([1., 2., 3.], device='cuda:0')\n",
      "Результат вычислений на GPU: tensor([2., 4., 6.], device='cuda:0')\n",
      "Тензор после перемещения на CPU: tensor([2., 4., 6.])\n"
     ]
    }
   ],
   "source": [
    "device = th.device(\"cuda:0\")\n",
    "tensor = th.tensor([1.0, 2.0, 3.0], device=device)\n",
    "print(\"Созданный тензор на GPU:\", tensor)\n",
    "\n",
    "tensor2 = tensor * 2\n",
    "print(\"Результат вычислений на GPU:\", tensor2)\n",
    "\n",
    "tensor_cpu = tensor2.cpu()\n",
    "print(\"Тензор после перемещения на CPU:\", tensor_cpu)"
   ]
  },
  {
   "cell_type": "code",
   "execution_count": null,
   "id": "606bb00c-25d3-4f4a-bbbc-57c7462d1c17",
   "metadata": {},
   "outputs": [],
   "source": []
  }
 ],
 "metadata": {
  "kernelspec": {
   "display_name": "Python 3 (ipykernel)",
   "language": "python",
   "name": "python3"
  },
  "language_info": {
   "codemirror_mode": {
    "name": "ipython",
    "version": 3
   },
   "file_extension": ".py",
   "mimetype": "text/x-python",
   "name": "python",
   "nbconvert_exporter": "python",
   "pygments_lexer": "ipython3",
   "version": "3.11.0rc1"
  }
 },
 "nbformat": 4,
 "nbformat_minor": 5
}
